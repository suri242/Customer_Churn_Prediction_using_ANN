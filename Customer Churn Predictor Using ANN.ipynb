{
 "cells": [
  {
   "cell_type": "code",
   "execution_count": 1,
   "id": "d04300d1",
   "metadata": {},
   "outputs": [],
   "source": [
    "import numpy as np \n",
    "import pandas as pd # data processing, CSV file I/O (e.g. pd.read_csv"
   ]
  },
  {
   "cell_type": "code",
   "execution_count": 2,
   "id": "073818f2",
   "metadata": {},
   "outputs": [],
   "source": [
    "df = pd.read_csv('Churn_Modelling.csv')"
   ]
  },
  {
   "cell_type": "code",
   "execution_count": 3,
   "id": "7b68266f",
   "metadata": {},
   "outputs": [
    {
     "data": {
      "text/html": [
       "<div>\n",
       "<style scoped>\n",
       "    .dataframe tbody tr th:only-of-type {\n",
       "        vertical-align: middle;\n",
       "    }\n",
       "\n",
       "    .dataframe tbody tr th {\n",
       "        vertical-align: top;\n",
       "    }\n",
       "\n",
       "    .dataframe thead th {\n",
       "        text-align: right;\n",
       "    }\n",
       "</style>\n",
       "<table border=\"1\" class=\"dataframe\">\n",
       "  <thead>\n",
       "    <tr style=\"text-align: right;\">\n",
       "      <th></th>\n",
       "      <th>RowNumber</th>\n",
       "      <th>CustomerId</th>\n",
       "      <th>Surname</th>\n",
       "      <th>CreditScore</th>\n",
       "      <th>Geography</th>\n",
       "      <th>Gender</th>\n",
       "      <th>Age</th>\n",
       "      <th>Tenure</th>\n",
       "      <th>Balance</th>\n",
       "      <th>NumOfProducts</th>\n",
       "      <th>HasCrCard</th>\n",
       "      <th>IsActiveMember</th>\n",
       "      <th>EstimatedSalary</th>\n",
       "      <th>Exited</th>\n",
       "    </tr>\n",
       "  </thead>\n",
       "  <tbody>\n",
       "    <tr>\n",
       "      <th>0</th>\n",
       "      <td>1</td>\n",
       "      <td>15634602</td>\n",
       "      <td>Hargrave</td>\n",
       "      <td>619</td>\n",
       "      <td>France</td>\n",
       "      <td>Female</td>\n",
       "      <td>42</td>\n",
       "      <td>2</td>\n",
       "      <td>0.00</td>\n",
       "      <td>1</td>\n",
       "      <td>1</td>\n",
       "      <td>1</td>\n",
       "      <td>101348.88</td>\n",
       "      <td>1</td>\n",
       "    </tr>\n",
       "    <tr>\n",
       "      <th>1</th>\n",
       "      <td>2</td>\n",
       "      <td>15647311</td>\n",
       "      <td>Hill</td>\n",
       "      <td>608</td>\n",
       "      <td>Spain</td>\n",
       "      <td>Female</td>\n",
       "      <td>41</td>\n",
       "      <td>1</td>\n",
       "      <td>83807.86</td>\n",
       "      <td>1</td>\n",
       "      <td>0</td>\n",
       "      <td>1</td>\n",
       "      <td>112542.58</td>\n",
       "      <td>0</td>\n",
       "    </tr>\n",
       "    <tr>\n",
       "      <th>2</th>\n",
       "      <td>3</td>\n",
       "      <td>15619304</td>\n",
       "      <td>Onio</td>\n",
       "      <td>502</td>\n",
       "      <td>France</td>\n",
       "      <td>Female</td>\n",
       "      <td>42</td>\n",
       "      <td>8</td>\n",
       "      <td>159660.80</td>\n",
       "      <td>3</td>\n",
       "      <td>1</td>\n",
       "      <td>0</td>\n",
       "      <td>113931.57</td>\n",
       "      <td>1</td>\n",
       "    </tr>\n",
       "    <tr>\n",
       "      <th>3</th>\n",
       "      <td>4</td>\n",
       "      <td>15701354</td>\n",
       "      <td>Boni</td>\n",
       "      <td>699</td>\n",
       "      <td>France</td>\n",
       "      <td>Female</td>\n",
       "      <td>39</td>\n",
       "      <td>1</td>\n",
       "      <td>0.00</td>\n",
       "      <td>2</td>\n",
       "      <td>0</td>\n",
       "      <td>0</td>\n",
       "      <td>93826.63</td>\n",
       "      <td>0</td>\n",
       "    </tr>\n",
       "    <tr>\n",
       "      <th>4</th>\n",
       "      <td>5</td>\n",
       "      <td>15737888</td>\n",
       "      <td>Mitchell</td>\n",
       "      <td>850</td>\n",
       "      <td>Spain</td>\n",
       "      <td>Female</td>\n",
       "      <td>43</td>\n",
       "      <td>2</td>\n",
       "      <td>125510.82</td>\n",
       "      <td>1</td>\n",
       "      <td>1</td>\n",
       "      <td>1</td>\n",
       "      <td>79084.10</td>\n",
       "      <td>0</td>\n",
       "    </tr>\n",
       "  </tbody>\n",
       "</table>\n",
       "</div>"
      ],
      "text/plain": [
       "   RowNumber  CustomerId   Surname  CreditScore Geography  Gender  Age  \\\n",
       "0          1    15634602  Hargrave          619    France  Female   42   \n",
       "1          2    15647311      Hill          608     Spain  Female   41   \n",
       "2          3    15619304      Onio          502    France  Female   42   \n",
       "3          4    15701354      Boni          699    France  Female   39   \n",
       "4          5    15737888  Mitchell          850     Spain  Female   43   \n",
       "\n",
       "   Tenure    Balance  NumOfProducts  HasCrCard  IsActiveMember  \\\n",
       "0       2       0.00              1          1               1   \n",
       "1       1   83807.86              1          0               1   \n",
       "2       8  159660.80              3          1               0   \n",
       "3       1       0.00              2          0               0   \n",
       "4       2  125510.82              1          1               1   \n",
       "\n",
       "   EstimatedSalary  Exited  \n",
       "0        101348.88       1  \n",
       "1        112542.58       0  \n",
       "2        113931.57       1  \n",
       "3         93826.63       0  \n",
       "4         79084.10       0  "
      ]
     },
     "execution_count": 3,
     "metadata": {},
     "output_type": "execute_result"
    }
   ],
   "source": [
    "df.head()"
   ]
  },
  {
   "cell_type": "code",
   "execution_count": 4,
   "id": "a04f9bce",
   "metadata": {},
   "outputs": [],
   "source": [
    "df.drop(columns = ['RowNumber','CustomerId','Surname'],inplace=True)"
   ]
  },
  {
   "cell_type": "code",
   "execution_count": 5,
   "id": "585badf7",
   "metadata": {},
   "outputs": [
    {
     "data": {
      "text/html": [
       "<div>\n",
       "<style scoped>\n",
       "    .dataframe tbody tr th:only-of-type {\n",
       "        vertical-align: middle;\n",
       "    }\n",
       "\n",
       "    .dataframe tbody tr th {\n",
       "        vertical-align: top;\n",
       "    }\n",
       "\n",
       "    .dataframe thead th {\n",
       "        text-align: right;\n",
       "    }\n",
       "</style>\n",
       "<table border=\"1\" class=\"dataframe\">\n",
       "  <thead>\n",
       "    <tr style=\"text-align: right;\">\n",
       "      <th></th>\n",
       "      <th>CreditScore</th>\n",
       "      <th>Geography</th>\n",
       "      <th>Gender</th>\n",
       "      <th>Age</th>\n",
       "      <th>Tenure</th>\n",
       "      <th>Balance</th>\n",
       "      <th>NumOfProducts</th>\n",
       "      <th>HasCrCard</th>\n",
       "      <th>IsActiveMember</th>\n",
       "      <th>EstimatedSalary</th>\n",
       "      <th>Exited</th>\n",
       "    </tr>\n",
       "  </thead>\n",
       "  <tbody>\n",
       "    <tr>\n",
       "      <th>0</th>\n",
       "      <td>619</td>\n",
       "      <td>France</td>\n",
       "      <td>Female</td>\n",
       "      <td>42</td>\n",
       "      <td>2</td>\n",
       "      <td>0.00</td>\n",
       "      <td>1</td>\n",
       "      <td>1</td>\n",
       "      <td>1</td>\n",
       "      <td>101348.88</td>\n",
       "      <td>1</td>\n",
       "    </tr>\n",
       "    <tr>\n",
       "      <th>1</th>\n",
       "      <td>608</td>\n",
       "      <td>Spain</td>\n",
       "      <td>Female</td>\n",
       "      <td>41</td>\n",
       "      <td>1</td>\n",
       "      <td>83807.86</td>\n",
       "      <td>1</td>\n",
       "      <td>0</td>\n",
       "      <td>1</td>\n",
       "      <td>112542.58</td>\n",
       "      <td>0</td>\n",
       "    </tr>\n",
       "    <tr>\n",
       "      <th>2</th>\n",
       "      <td>502</td>\n",
       "      <td>France</td>\n",
       "      <td>Female</td>\n",
       "      <td>42</td>\n",
       "      <td>8</td>\n",
       "      <td>159660.80</td>\n",
       "      <td>3</td>\n",
       "      <td>1</td>\n",
       "      <td>0</td>\n",
       "      <td>113931.57</td>\n",
       "      <td>1</td>\n",
       "    </tr>\n",
       "    <tr>\n",
       "      <th>3</th>\n",
       "      <td>699</td>\n",
       "      <td>France</td>\n",
       "      <td>Female</td>\n",
       "      <td>39</td>\n",
       "      <td>1</td>\n",
       "      <td>0.00</td>\n",
       "      <td>2</td>\n",
       "      <td>0</td>\n",
       "      <td>0</td>\n",
       "      <td>93826.63</td>\n",
       "      <td>0</td>\n",
       "    </tr>\n",
       "    <tr>\n",
       "      <th>4</th>\n",
       "      <td>850</td>\n",
       "      <td>Spain</td>\n",
       "      <td>Female</td>\n",
       "      <td>43</td>\n",
       "      <td>2</td>\n",
       "      <td>125510.82</td>\n",
       "      <td>1</td>\n",
       "      <td>1</td>\n",
       "      <td>1</td>\n",
       "      <td>79084.10</td>\n",
       "      <td>0</td>\n",
       "    </tr>\n",
       "  </tbody>\n",
       "</table>\n",
       "</div>"
      ],
      "text/plain": [
       "   CreditScore Geography  Gender  Age  Tenure    Balance  NumOfProducts  \\\n",
       "0          619    France  Female   42       2       0.00              1   \n",
       "1          608     Spain  Female   41       1   83807.86              1   \n",
       "2          502    France  Female   42       8  159660.80              3   \n",
       "3          699    France  Female   39       1       0.00              2   \n",
       "4          850     Spain  Female   43       2  125510.82              1   \n",
       "\n",
       "   HasCrCard  IsActiveMember  EstimatedSalary  Exited  \n",
       "0          1               1        101348.88       1  \n",
       "1          0               1        112542.58       0  \n",
       "2          1               0        113931.57       1  \n",
       "3          0               0         93826.63       0  \n",
       "4          1               1         79084.10       0  "
      ]
     },
     "execution_count": 5,
     "metadata": {},
     "output_type": "execute_result"
    }
   ],
   "source": [
    "df.head()"
   ]
  },
  {
   "cell_type": "code",
   "execution_count": 6,
   "id": "ce4a66f9",
   "metadata": {},
   "outputs": [
    {
     "data": {
      "text/plain": [
       "France     5014\n",
       "Germany    2509\n",
       "Spain      2477\n",
       "Name: Geography, dtype: int64"
      ]
     },
     "execution_count": 6,
     "metadata": {},
     "output_type": "execute_result"
    }
   ],
   "source": [
    "df['Geography'].value_counts()"
   ]
  },
  {
   "cell_type": "code",
   "execution_count": 7,
   "id": "4d29941b",
   "metadata": {},
   "outputs": [
    {
     "data": {
      "text/plain": [
       "Male      5457\n",
       "Female    4543\n",
       "Name: Gender, dtype: int64"
      ]
     },
     "execution_count": 7,
     "metadata": {},
     "output_type": "execute_result"
    }
   ],
   "source": [
    "df['Gender'].value_counts()"
   ]
  },
  {
   "cell_type": "code",
   "execution_count": 8,
   "id": "ddebf60a",
   "metadata": {},
   "outputs": [],
   "source": [
    "df = pd.get_dummies(df,columns=['Geography','Gender'],drop_first=True)"
   ]
  },
  {
   "cell_type": "code",
   "execution_count": 9,
   "id": "1981cc60",
   "metadata": {},
   "outputs": [
    {
     "data": {
      "text/html": [
       "<div>\n",
       "<style scoped>\n",
       "    .dataframe tbody tr th:only-of-type {\n",
       "        vertical-align: middle;\n",
       "    }\n",
       "\n",
       "    .dataframe tbody tr th {\n",
       "        vertical-align: top;\n",
       "    }\n",
       "\n",
       "    .dataframe thead th {\n",
       "        text-align: right;\n",
       "    }\n",
       "</style>\n",
       "<table border=\"1\" class=\"dataframe\">\n",
       "  <thead>\n",
       "    <tr style=\"text-align: right;\">\n",
       "      <th></th>\n",
       "      <th>CreditScore</th>\n",
       "      <th>Age</th>\n",
       "      <th>Tenure</th>\n",
       "      <th>Balance</th>\n",
       "      <th>NumOfProducts</th>\n",
       "      <th>HasCrCard</th>\n",
       "      <th>IsActiveMember</th>\n",
       "      <th>EstimatedSalary</th>\n",
       "      <th>Exited</th>\n",
       "      <th>Geography_Germany</th>\n",
       "      <th>Geography_Spain</th>\n",
       "      <th>Gender_Male</th>\n",
       "    </tr>\n",
       "  </thead>\n",
       "  <tbody>\n",
       "    <tr>\n",
       "      <th>0</th>\n",
       "      <td>619</td>\n",
       "      <td>42</td>\n",
       "      <td>2</td>\n",
       "      <td>0.00</td>\n",
       "      <td>1</td>\n",
       "      <td>1</td>\n",
       "      <td>1</td>\n",
       "      <td>101348.88</td>\n",
       "      <td>1</td>\n",
       "      <td>0</td>\n",
       "      <td>0</td>\n",
       "      <td>0</td>\n",
       "    </tr>\n",
       "    <tr>\n",
       "      <th>1</th>\n",
       "      <td>608</td>\n",
       "      <td>41</td>\n",
       "      <td>1</td>\n",
       "      <td>83807.86</td>\n",
       "      <td>1</td>\n",
       "      <td>0</td>\n",
       "      <td>1</td>\n",
       "      <td>112542.58</td>\n",
       "      <td>0</td>\n",
       "      <td>0</td>\n",
       "      <td>1</td>\n",
       "      <td>0</td>\n",
       "    </tr>\n",
       "    <tr>\n",
       "      <th>2</th>\n",
       "      <td>502</td>\n",
       "      <td>42</td>\n",
       "      <td>8</td>\n",
       "      <td>159660.80</td>\n",
       "      <td>3</td>\n",
       "      <td>1</td>\n",
       "      <td>0</td>\n",
       "      <td>113931.57</td>\n",
       "      <td>1</td>\n",
       "      <td>0</td>\n",
       "      <td>0</td>\n",
       "      <td>0</td>\n",
       "    </tr>\n",
       "    <tr>\n",
       "      <th>3</th>\n",
       "      <td>699</td>\n",
       "      <td>39</td>\n",
       "      <td>1</td>\n",
       "      <td>0.00</td>\n",
       "      <td>2</td>\n",
       "      <td>0</td>\n",
       "      <td>0</td>\n",
       "      <td>93826.63</td>\n",
       "      <td>0</td>\n",
       "      <td>0</td>\n",
       "      <td>0</td>\n",
       "      <td>0</td>\n",
       "    </tr>\n",
       "    <tr>\n",
       "      <th>4</th>\n",
       "      <td>850</td>\n",
       "      <td>43</td>\n",
       "      <td>2</td>\n",
       "      <td>125510.82</td>\n",
       "      <td>1</td>\n",
       "      <td>1</td>\n",
       "      <td>1</td>\n",
       "      <td>79084.10</td>\n",
       "      <td>0</td>\n",
       "      <td>0</td>\n",
       "      <td>1</td>\n",
       "      <td>0</td>\n",
       "    </tr>\n",
       "  </tbody>\n",
       "</table>\n",
       "</div>"
      ],
      "text/plain": [
       "   CreditScore  Age  Tenure    Balance  NumOfProducts  HasCrCard  \\\n",
       "0          619   42       2       0.00              1          1   \n",
       "1          608   41       1   83807.86              1          0   \n",
       "2          502   42       8  159660.80              3          1   \n",
       "3          699   39       1       0.00              2          0   \n",
       "4          850   43       2  125510.82              1          1   \n",
       "\n",
       "   IsActiveMember  EstimatedSalary  Exited  Geography_Germany  \\\n",
       "0               1        101348.88       1                  0   \n",
       "1               1        112542.58       0                  0   \n",
       "2               0        113931.57       1                  0   \n",
       "3               0         93826.63       0                  0   \n",
       "4               1         79084.10       0                  0   \n",
       "\n",
       "   Geography_Spain  Gender_Male  \n",
       "0                0            0  \n",
       "1                1            0  \n",
       "2                0            0  \n",
       "3                0            0  \n",
       "4                1            0  "
      ]
     },
     "execution_count": 9,
     "metadata": {},
     "output_type": "execute_result"
    }
   ],
   "source": [
    "df.head()"
   ]
  },
  {
   "cell_type": "code",
   "execution_count": 76,
   "id": "d461afae",
   "metadata": {},
   "outputs": [
    {
     "data": {
      "text/plain": [
       "CreditScore          0\n",
       "Age                  0\n",
       "Tenure               0\n",
       "Balance              0\n",
       "NumOfProducts        0\n",
       "HasCrCard            0\n",
       "IsActiveMember       0\n",
       "EstimatedSalary      0\n",
       "Exited               0\n",
       "Geography_Germany    0\n",
       "Geography_Spain      0\n",
       "Gender_Male          0\n",
       "dtype: int64"
      ]
     },
     "execution_count": 76,
     "metadata": {},
     "output_type": "execute_result"
    }
   ],
   "source": [
    "df.isnull().sum()"
   ]
  },
  {
   "cell_type": "code",
   "execution_count": 77,
   "id": "b0e936f9",
   "metadata": {},
   "outputs": [],
   "source": [
    "X = df.drop(columns=['Exited'], axis=1)\n",
    "y = df['Exited']\n",
    "\n",
    "from sklearn.model_selection import train_test_split\n",
    "X_train,X_test,y_train,y_test = train_test_split(X,y,test_size=0.2,random_state=0)"
   ]
  },
  {
   "cell_type": "code",
   "execution_count": 161,
   "id": "a141a90a",
   "metadata": {},
   "outputs": [],
   "source": [
    "from sklearn.preprocessing import StandardScaler\n",
    "scaler = StandardScaler()\n",
    "\n",
    "X_train_sc= scaler.fit_transform(X_train)\n",
    "X_test_sc = scaler.transform(X_test)"
   ]
  },
  {
   "cell_type": "code",
   "execution_count": 162,
   "id": "273059c5",
   "metadata": {},
   "outputs": [
    {
     "data": {
      "text/plain": [
       "11"
      ]
     },
     "execution_count": 162,
     "metadata": {},
     "output_type": "execute_result"
    }
   ],
   "source": [
    "len(X.columns)"
   ]
  },
  {
   "cell_type": "code",
   "execution_count": 163,
   "id": "2e5b0710",
   "metadata": {},
   "outputs": [],
   "source": [
    "import tensorflow\n",
    "from tensorflow import keras\n",
    "from tensorflow.keras import Sequential \n",
    "from tensorflow.keras.layers import Dense\n",
    "from keras.callbacks import EarlyStopping"
   ]
  },
  {
   "cell_type": "code",
   "execution_count": 184,
   "id": "a8b2246b",
   "metadata": {},
   "outputs": [],
   "source": [
    "model = Sequential()\n",
    "\n",
    "model.add(Dense(11,activation='sigmoid',input_dim=11))\n",
    "model.add(Dense(11,activation='sigmoid'))\n",
    "model.add(Dense(1,activation='sigmoid'))"
   ]
  },
  {
   "cell_type": "code",
   "execution_count": 185,
   "id": "fad1a135",
   "metadata": {},
   "outputs": [
    {
     "name": "stdout",
     "output_type": "stream",
     "text": [
      "Model: \"sequential_12\"\n",
      "_________________________________________________________________\n",
      " Layer (type)                Output Shape              Param #   \n",
      "=================================================================\n",
      " dense_45 (Dense)            (None, 11)                132       \n",
      "                                                                 \n",
      " dense_46 (Dense)            (None, 11)                132       \n",
      "                                                                 \n",
      " dense_47 (Dense)            (None, 1)                 12        \n",
      "                                                                 \n",
      "=================================================================\n",
      "Total params: 276\n",
      "Trainable params: 276\n",
      "Non-trainable params: 0\n",
      "_________________________________________________________________\n"
     ]
    }
   ],
   "source": [
    "model.summary()"
   ]
  },
  {
   "cell_type": "code",
   "execution_count": 186,
   "id": "dbca8169",
   "metadata": {},
   "outputs": [],
   "source": [
    "model.compile(optimizer='Adam',loss='binary_crossentropy',metrics=['accuracy'])"
   ]
  },
  {
   "cell_type": "code",
   "execution_count": 187,
   "id": "085ae5da",
   "metadata": {},
   "outputs": [],
   "source": [
    "early_Stop=EarlyStopping(monitor='loss')"
   ]
  },
  {
   "cell_type": "code",
   "execution_count": 188,
   "id": "7c860899",
   "metadata": {
    "scrolled": false
   },
   "outputs": [
    {
     "name": "stdout",
     "output_type": "stream",
     "text": [
      "Epoch 1/100\n",
      "128/128 [==============================] - 1s 2ms/step - loss: 0.5893 - accuracy: 0.7361 - val_loss: 0.5141 - val_accuracy: 0.7969\n",
      "Epoch 2/100\n",
      "128/128 [==============================] - 0s 1ms/step - loss: 0.5024 - accuracy: 0.7958 - val_loss: 0.4949 - val_accuracy: 0.7969\n",
      "Epoch 3/100\n",
      "128/128 [==============================] - 0s 1ms/step - loss: 0.4909 - accuracy: 0.7958 - val_loss: 0.4858 - val_accuracy: 0.7969\n",
      "Epoch 4/100\n",
      "128/128 [==============================] - 0s 1ms/step - loss: 0.4807 - accuracy: 0.7958 - val_loss: 0.4752 - val_accuracy: 0.7969\n",
      "Epoch 5/100\n",
      "128/128 [==============================] - 0s 1ms/step - loss: 0.4684 - accuracy: 0.7958 - val_loss: 0.4630 - val_accuracy: 0.7969\n",
      "Epoch 6/100\n",
      "128/128 [==============================] - 0s 1ms/step - loss: 0.4555 - accuracy: 0.7958 - val_loss: 0.4515 - val_accuracy: 0.7969\n",
      "Epoch 7/100\n",
      "128/128 [==============================] - 0s 1ms/step - loss: 0.4442 - accuracy: 0.7958 - val_loss: 0.4427 - val_accuracy: 0.7969\n",
      "Epoch 8/100\n",
      "128/128 [==============================] - 0s 1ms/step - loss: 0.4359 - accuracy: 0.7983 - val_loss: 0.4373 - val_accuracy: 0.8025\n",
      "Epoch 9/100\n",
      "128/128 [==============================] - 0s 1ms/step - loss: 0.4307 - accuracy: 0.8083 - val_loss: 0.4345 - val_accuracy: 0.8094\n",
      "Epoch 10/100\n",
      "128/128 [==============================] - 0s 1ms/step - loss: 0.4276 - accuracy: 0.8087 - val_loss: 0.4327 - val_accuracy: 0.8081\n",
      "Epoch 11/100\n",
      "128/128 [==============================] - 0s 1ms/step - loss: 0.4256 - accuracy: 0.8092 - val_loss: 0.4316 - val_accuracy: 0.8087\n",
      "Epoch 12/100\n",
      "128/128 [==============================] - 0s 1ms/step - loss: 0.4241 - accuracy: 0.8087 - val_loss: 0.4307 - val_accuracy: 0.8081\n",
      "Epoch 13/100\n",
      "128/128 [==============================] - 0s 1ms/step - loss: 0.4230 - accuracy: 0.8073 - val_loss: 0.4296 - val_accuracy: 0.8094\n",
      "Epoch 14/100\n",
      "128/128 [==============================] - 0s 1ms/step - loss: 0.4215 - accuracy: 0.8095 - val_loss: 0.4283 - val_accuracy: 0.8106\n",
      "Epoch 15/100\n",
      "128/128 [==============================] - 0s 1ms/step - loss: 0.4202 - accuracy: 0.8114 - val_loss: 0.4270 - val_accuracy: 0.8112\n",
      "Epoch 16/100\n",
      "128/128 [==============================] - 0s 1ms/step - loss: 0.4188 - accuracy: 0.8116 - val_loss: 0.4252 - val_accuracy: 0.8150\n",
      "Epoch 17/100\n",
      "128/128 [==============================] - 0s 1ms/step - loss: 0.4171 - accuracy: 0.8130 - val_loss: 0.4233 - val_accuracy: 0.8181\n",
      "Epoch 18/100\n",
      "128/128 [==============================] - 0s 1ms/step - loss: 0.4153 - accuracy: 0.8159 - val_loss: 0.4214 - val_accuracy: 0.8181\n",
      "Epoch 19/100\n",
      "128/128 [==============================] - 0s 1ms/step - loss: 0.4133 - accuracy: 0.8173 - val_loss: 0.4194 - val_accuracy: 0.8188\n",
      "Epoch 20/100\n",
      "128/128 [==============================] - 0s 1ms/step - loss: 0.4114 - accuracy: 0.8198 - val_loss: 0.4175 - val_accuracy: 0.8225\n",
      "Epoch 21/100\n",
      "128/128 [==============================] - 0s 1ms/step - loss: 0.4095 - accuracy: 0.8206 - val_loss: 0.4154 - val_accuracy: 0.8238\n",
      "Epoch 22/100\n",
      "128/128 [==============================] - 0s 1ms/step - loss: 0.4076 - accuracy: 0.8242 - val_loss: 0.4131 - val_accuracy: 0.8288\n",
      "Epoch 23/100\n",
      "128/128 [==============================] - 0s 1ms/step - loss: 0.4052 - accuracy: 0.8258 - val_loss: 0.4110 - val_accuracy: 0.8300\n",
      "Epoch 24/100\n",
      "128/128 [==============================] - 0s 1ms/step - loss: 0.4033 - accuracy: 0.8284 - val_loss: 0.4087 - val_accuracy: 0.8300\n",
      "Epoch 25/100\n",
      "128/128 [==============================] - 0s 1ms/step - loss: 0.4011 - accuracy: 0.8289 - val_loss: 0.4068 - val_accuracy: 0.8319\n",
      "Epoch 26/100\n",
      "128/128 [==============================] - 0s 1ms/step - loss: 0.3990 - accuracy: 0.8319 - val_loss: 0.4045 - val_accuracy: 0.8344\n",
      "Epoch 27/100\n",
      "128/128 [==============================] - 0s 1ms/step - loss: 0.3971 - accuracy: 0.8322 - val_loss: 0.4024 - val_accuracy: 0.8369\n",
      "Epoch 28/100\n",
      "128/128 [==============================] - 0s 1ms/step - loss: 0.3949 - accuracy: 0.8328 - val_loss: 0.4003 - val_accuracy: 0.8369\n",
      "Epoch 29/100\n",
      "128/128 [==============================] - 0s 1ms/step - loss: 0.3929 - accuracy: 0.8355 - val_loss: 0.3984 - val_accuracy: 0.8400\n",
      "Epoch 30/100\n",
      "128/128 [==============================] - 0s 1ms/step - loss: 0.3908 - accuracy: 0.8355 - val_loss: 0.3963 - val_accuracy: 0.8388\n",
      "Epoch 31/100\n",
      "128/128 [==============================] - 0s 1ms/step - loss: 0.3886 - accuracy: 0.8372 - val_loss: 0.3952 - val_accuracy: 0.8363\n",
      "Epoch 32/100\n",
      "128/128 [==============================] - 0s 1ms/step - loss: 0.3870 - accuracy: 0.8391 - val_loss: 0.3927 - val_accuracy: 0.8375\n",
      "Epoch 33/100\n",
      "128/128 [==============================] - 0s 1ms/step - loss: 0.3848 - accuracy: 0.8413 - val_loss: 0.3906 - val_accuracy: 0.8394\n",
      "Epoch 34/100\n",
      "128/128 [==============================] - 0s 1ms/step - loss: 0.3827 - accuracy: 0.8408 - val_loss: 0.3890 - val_accuracy: 0.8394\n",
      "Epoch 35/100\n",
      "128/128 [==============================] - 0s 1ms/step - loss: 0.3812 - accuracy: 0.8420 - val_loss: 0.3871 - val_accuracy: 0.8381\n",
      "Epoch 36/100\n",
      "128/128 [==============================] - 0s 1ms/step - loss: 0.3790 - accuracy: 0.8439 - val_loss: 0.3862 - val_accuracy: 0.8413\n",
      "Epoch 37/100\n",
      "128/128 [==============================] - 0s 1ms/step - loss: 0.3773 - accuracy: 0.8448 - val_loss: 0.3840 - val_accuracy: 0.8419\n",
      "Epoch 38/100\n",
      "128/128 [==============================] - 0s 1ms/step - loss: 0.3753 - accuracy: 0.8461 - val_loss: 0.3823 - val_accuracy: 0.8406\n",
      "Epoch 39/100\n",
      "128/128 [==============================] - 0s 1ms/step - loss: 0.3738 - accuracy: 0.8461 - val_loss: 0.3809 - val_accuracy: 0.8438\n",
      "Epoch 40/100\n",
      "128/128 [==============================] - 0s 1ms/step - loss: 0.3719 - accuracy: 0.8469 - val_loss: 0.3796 - val_accuracy: 0.8425\n",
      "Epoch 41/100\n",
      "128/128 [==============================] - 0s 1ms/step - loss: 0.3702 - accuracy: 0.8489 - val_loss: 0.3781 - val_accuracy: 0.8444\n",
      "Epoch 42/100\n",
      "128/128 [==============================] - 0s 1ms/step - loss: 0.3683 - accuracy: 0.8511 - val_loss: 0.3763 - val_accuracy: 0.8475\n",
      "Epoch 43/100\n",
      "128/128 [==============================] - 0s 1ms/step - loss: 0.3668 - accuracy: 0.8502 - val_loss: 0.3750 - val_accuracy: 0.8462\n",
      "Epoch 44/100\n",
      "128/128 [==============================] - 0s 1ms/step - loss: 0.3648 - accuracy: 0.8517 - val_loss: 0.3743 - val_accuracy: 0.8450\n",
      "Epoch 45/100\n",
      "128/128 [==============================] - 0s 1ms/step - loss: 0.3636 - accuracy: 0.8527 - val_loss: 0.3725 - val_accuracy: 0.8481\n",
      "Epoch 46/100\n",
      "128/128 [==============================] - 0s 1ms/step - loss: 0.3620 - accuracy: 0.8531 - val_loss: 0.3715 - val_accuracy: 0.8512\n",
      "Epoch 47/100\n",
      "128/128 [==============================] - 0s 1ms/step - loss: 0.3606 - accuracy: 0.8544 - val_loss: 0.3703 - val_accuracy: 0.8494\n",
      "Epoch 48/100\n",
      "128/128 [==============================] - 0s 1ms/step - loss: 0.3592 - accuracy: 0.8547 - val_loss: 0.3687 - val_accuracy: 0.8519\n",
      "Epoch 49/100\n",
      "128/128 [==============================] - 0s 1ms/step - loss: 0.3573 - accuracy: 0.8553 - val_loss: 0.3678 - val_accuracy: 0.8500\n",
      "Epoch 50/100\n",
      "128/128 [==============================] - 0s 1ms/step - loss: 0.3558 - accuracy: 0.8564 - val_loss: 0.3668 - val_accuracy: 0.8487\n",
      "Epoch 51/100\n",
      "128/128 [==============================] - 0s 1ms/step - loss: 0.3547 - accuracy: 0.8573 - val_loss: 0.3658 - val_accuracy: 0.8506\n",
      "Epoch 52/100\n",
      "128/128 [==============================] - 0s 1ms/step - loss: 0.3537 - accuracy: 0.8558 - val_loss: 0.3650 - val_accuracy: 0.8500\n",
      "Epoch 53/100\n",
      "128/128 [==============================] - 0s 1ms/step - loss: 0.3524 - accuracy: 0.8570 - val_loss: 0.3643 - val_accuracy: 0.8494\n",
      "Epoch 54/100\n",
      "128/128 [==============================] - 0s 1ms/step - loss: 0.3510 - accuracy: 0.8567 - val_loss: 0.3635 - val_accuracy: 0.8512\n",
      "Epoch 55/100\n",
      "128/128 [==============================] - 0s 1ms/step - loss: 0.3497 - accuracy: 0.8577 - val_loss: 0.3636 - val_accuracy: 0.8512\n",
      "Epoch 56/100\n",
      "128/128 [==============================] - 0s 1ms/step - loss: 0.3488 - accuracy: 0.8586 - val_loss: 0.3617 - val_accuracy: 0.8494\n",
      "Epoch 57/100\n",
      "128/128 [==============================] - 0s 1ms/step - loss: 0.3478 - accuracy: 0.8591 - val_loss: 0.3612 - val_accuracy: 0.8481\n"
     ]
    },
    {
     "name": "stdout",
     "output_type": "stream",
     "text": [
      "Epoch 58/100\n",
      "128/128 [==============================] - 0s 1ms/step - loss: 0.3472 - accuracy: 0.8592 - val_loss: 0.3605 - val_accuracy: 0.8519\n",
      "Epoch 59/100\n",
      "128/128 [==============================] - 0s 1ms/step - loss: 0.3460 - accuracy: 0.8602 - val_loss: 0.3599 - val_accuracy: 0.8506\n",
      "Epoch 60/100\n",
      "128/128 [==============================] - 0s 1ms/step - loss: 0.3450 - accuracy: 0.8583 - val_loss: 0.3601 - val_accuracy: 0.8494\n",
      "Epoch 61/100\n",
      "128/128 [==============================] - 0s 1ms/step - loss: 0.3447 - accuracy: 0.8598 - val_loss: 0.3592 - val_accuracy: 0.8537\n",
      "Epoch 62/100\n",
      "128/128 [==============================] - 0s 1ms/step - loss: 0.3435 - accuracy: 0.8598 - val_loss: 0.3585 - val_accuracy: 0.8494\n",
      "Epoch 63/100\n",
      "128/128 [==============================] - 0s 1ms/step - loss: 0.3429 - accuracy: 0.8609 - val_loss: 0.3583 - val_accuracy: 0.8519\n",
      "Epoch 64/100\n",
      "128/128 [==============================] - 0s 1ms/step - loss: 0.3420 - accuracy: 0.8628 - val_loss: 0.3580 - val_accuracy: 0.8512\n",
      "Epoch 65/100\n",
      "128/128 [==============================] - 0s 1ms/step - loss: 0.3414 - accuracy: 0.8616 - val_loss: 0.3578 - val_accuracy: 0.8487\n",
      "Epoch 66/100\n",
      "128/128 [==============================] - 0s 1ms/step - loss: 0.3411 - accuracy: 0.8633 - val_loss: 0.3573 - val_accuracy: 0.8512\n",
      "Epoch 67/100\n",
      "128/128 [==============================] - 0s 1ms/step - loss: 0.3404 - accuracy: 0.8619 - val_loss: 0.3574 - val_accuracy: 0.8500\n",
      "Epoch 68/100\n",
      "128/128 [==============================] - 0s 1ms/step - loss: 0.3397 - accuracy: 0.8609 - val_loss: 0.3567 - val_accuracy: 0.8506\n",
      "Epoch 69/100\n",
      "128/128 [==============================] - 0s 1ms/step - loss: 0.3394 - accuracy: 0.8612 - val_loss: 0.3564 - val_accuracy: 0.8487\n",
      "Epoch 70/100\n",
      "128/128 [==============================] - 0s 1ms/step - loss: 0.3390 - accuracy: 0.8619 - val_loss: 0.3558 - val_accuracy: 0.8487\n",
      "Epoch 71/100\n",
      "128/128 [==============================] - 0s 1ms/step - loss: 0.3386 - accuracy: 0.8614 - val_loss: 0.3564 - val_accuracy: 0.8506\n",
      "Epoch 72/100\n",
      "128/128 [==============================] - 0s 1ms/step - loss: 0.3380 - accuracy: 0.8630 - val_loss: 0.3560 - val_accuracy: 0.8506\n",
      "Epoch 73/100\n",
      "128/128 [==============================] - 0s 1ms/step - loss: 0.3379 - accuracy: 0.8620 - val_loss: 0.3554 - val_accuracy: 0.8487\n",
      "Epoch 74/100\n",
      "128/128 [==============================] - 0s 1ms/step - loss: 0.3369 - accuracy: 0.8625 - val_loss: 0.3549 - val_accuracy: 0.8506\n",
      "Epoch 75/100\n",
      "128/128 [==============================] - 0s 1ms/step - loss: 0.3371 - accuracy: 0.8617 - val_loss: 0.3556 - val_accuracy: 0.8506\n",
      "Epoch 76/100\n",
      "128/128 [==============================] - 0s 1ms/step - loss: 0.3366 - accuracy: 0.8619 - val_loss: 0.3545 - val_accuracy: 0.8469\n",
      "Epoch 77/100\n",
      "128/128 [==============================] - 0s 1ms/step - loss: 0.3360 - accuracy: 0.8634 - val_loss: 0.3545 - val_accuracy: 0.8506\n",
      "Epoch 78/100\n",
      "128/128 [==============================] - 0s 1ms/step - loss: 0.3361 - accuracy: 0.8616 - val_loss: 0.3547 - val_accuracy: 0.8506\n",
      "Epoch 79/100\n",
      "128/128 [==============================] - 0s 1ms/step - loss: 0.3354 - accuracy: 0.8620 - val_loss: 0.3540 - val_accuracy: 0.8487\n",
      "Epoch 80/100\n",
      "128/128 [==============================] - 0s 1ms/step - loss: 0.3353 - accuracy: 0.8617 - val_loss: 0.3543 - val_accuracy: 0.8500\n",
      "Epoch 81/100\n",
      "128/128 [==============================] - 0s 1ms/step - loss: 0.3348 - accuracy: 0.8625 - val_loss: 0.3539 - val_accuracy: 0.8500\n",
      "Epoch 82/100\n",
      "128/128 [==============================] - 0s 1ms/step - loss: 0.3346 - accuracy: 0.8627 - val_loss: 0.3534 - val_accuracy: 0.8512\n",
      "Epoch 83/100\n",
      "128/128 [==============================] - 0s 1ms/step - loss: 0.3342 - accuracy: 0.8637 - val_loss: 0.3531 - val_accuracy: 0.8481\n",
      "Epoch 84/100\n",
      "128/128 [==============================] - 0s 1ms/step - loss: 0.3343 - accuracy: 0.8636 - val_loss: 0.3531 - val_accuracy: 0.8506\n",
      "Epoch 85/100\n",
      "128/128 [==============================] - 0s 1ms/step - loss: 0.3337 - accuracy: 0.8633 - val_loss: 0.3531 - val_accuracy: 0.8500\n",
      "Epoch 86/100\n",
      "128/128 [==============================] - 0s 1ms/step - loss: 0.3332 - accuracy: 0.8639 - val_loss: 0.3528 - val_accuracy: 0.8494\n",
      "Epoch 87/100\n",
      "128/128 [==============================] - 0s 1ms/step - loss: 0.3334 - accuracy: 0.8612 - val_loss: 0.3526 - val_accuracy: 0.8506\n",
      "Epoch 88/100\n",
      "128/128 [==============================] - 0s 1ms/step - loss: 0.3325 - accuracy: 0.8634 - val_loss: 0.3523 - val_accuracy: 0.8525\n",
      "Epoch 89/100\n",
      "128/128 [==============================] - 0s 1ms/step - loss: 0.3327 - accuracy: 0.8634 - val_loss: 0.3522 - val_accuracy: 0.8525\n",
      "Epoch 90/100\n",
      "128/128 [==============================] - 0s 1ms/step - loss: 0.3321 - accuracy: 0.8637 - val_loss: 0.3519 - val_accuracy: 0.8525\n",
      "Epoch 91/100\n",
      "128/128 [==============================] - 0s 1ms/step - loss: 0.3323 - accuracy: 0.8641 - val_loss: 0.3528 - val_accuracy: 0.8500\n",
      "Epoch 92/100\n",
      "128/128 [==============================] - 0s 1ms/step - loss: 0.3316 - accuracy: 0.8647 - val_loss: 0.3516 - val_accuracy: 0.8537\n",
      "Epoch 93/100\n",
      "128/128 [==============================] - 0s 1ms/step - loss: 0.3314 - accuracy: 0.8636 - val_loss: 0.3517 - val_accuracy: 0.8519\n",
      "Epoch 94/100\n",
      "128/128 [==============================] - 0s 1ms/step - loss: 0.3315 - accuracy: 0.8648 - val_loss: 0.3520 - val_accuracy: 0.8506\n",
      "Epoch 95/100\n",
      "128/128 [==============================] - 0s 1ms/step - loss: 0.3313 - accuracy: 0.8633 - val_loss: 0.3517 - val_accuracy: 0.8512\n",
      "Epoch 96/100\n",
      "128/128 [==============================] - 0s 1ms/step - loss: 0.3307 - accuracy: 0.8623 - val_loss: 0.3524 - val_accuracy: 0.8512\n",
      "Epoch 97/100\n",
      "128/128 [==============================] - 0s 1ms/step - loss: 0.3306 - accuracy: 0.8637 - val_loss: 0.3516 - val_accuracy: 0.8537\n",
      "Epoch 98/100\n",
      "128/128 [==============================] - 0s 1ms/step - loss: 0.3304 - accuracy: 0.8641 - val_loss: 0.3505 - val_accuracy: 0.8531\n",
      "Epoch 99/100\n",
      "128/128 [==============================] - 0s 1ms/step - loss: 0.3302 - accuracy: 0.8634 - val_loss: 0.3503 - val_accuracy: 0.8550\n",
      "Epoch 100/100\n",
      "128/128 [==============================] - 0s 1ms/step - loss: 0.3301 - accuracy: 0.8625 - val_loss: 0.3503 - val_accuracy: 0.8556\n"
     ]
    }
   ],
   "source": [
    "history = model.fit(X_train_sc,y_train,batch_size=50,epochs=100,verbose=1,validation_split=0.2 )"
   ]
  },
  {
   "cell_type": "code",
   "execution_count": 189,
   "id": "9410b470",
   "metadata": {},
   "outputs": [
    {
     "name": "stdout",
     "output_type": "stream",
     "text": [
      "63/63 [==============================] - 0s 695us/step\n"
     ]
    }
   ],
   "source": [
    "y_pred = model.predict(X_test_sc)"
   ]
  },
  {
   "cell_type": "code",
   "execution_count": 190,
   "id": "55beb6e0",
   "metadata": {},
   "outputs": [
    {
     "data": {
      "text/plain": [
       "array([[0.24846552],\n",
       "       [0.24572016],\n",
       "       [0.10889148],\n",
       "       ...,\n",
       "       [0.08312891],\n",
       "       [0.17540163],\n",
       "       [0.21755539]], dtype=float32)"
      ]
     },
     "execution_count": 190,
     "metadata": {},
     "output_type": "execute_result"
    }
   ],
   "source": [
    "y_pred"
   ]
  },
  {
   "cell_type": "code",
   "execution_count": 191,
   "id": "a595d206",
   "metadata": {},
   "outputs": [],
   "source": [
    "y_pred= y_pred.argmax(axis=-1)"
   ]
  },
  {
   "cell_type": "code",
   "execution_count": 192,
   "id": "4ffa1007",
   "metadata": {},
   "outputs": [
    {
     "data": {
      "text/plain": [
       "array([0, 0, 0, ..., 0, 0, 0], dtype=int64)"
      ]
     },
     "execution_count": 192,
     "metadata": {},
     "output_type": "execute_result"
    }
   ],
   "source": [
    "y_pred"
   ]
  },
  {
   "cell_type": "code",
   "execution_count": 193,
   "id": "e5fd1652",
   "metadata": {},
   "outputs": [
    {
     "data": {
      "text/plain": [
       "0.7975"
      ]
     },
     "execution_count": 193,
     "metadata": {},
     "output_type": "execute_result"
    }
   ],
   "source": [
    "from sklearn.metrics import accuracy_score\n",
    "accuracy_score(y_test,y_pred)"
   ]
  },
  {
   "cell_type": "code",
   "execution_count": 194,
   "id": "d23a3462",
   "metadata": {},
   "outputs": [
    {
     "data": {
      "text/plain": [
       "[<matplotlib.lines.Line2D at 0x21872841540>]"
      ]
     },
     "execution_count": 194,
     "metadata": {},
     "output_type": "execute_result"
    },
    {
     "data": {
      "image/png": "[encoded data removed]",
      "text/plain": [
       "<Figure size 640x480 with 1 Axes>"
      ]
     },
     "metadata": {},
     "output_type": "display_data"
    }
   ],
   "source": [
    "import matplotlib.pyplot as plt\n",
    "\n",
    "plt.plot(history.history['loss'])\n",
    "plt.plot(history.history['val_loss'])"
   ]
  },
  {
   "cell_type": "code",
   "execution_count": 195,
   "id": "2f5e2ca3",
   "metadata": {},
   "outputs": [
    {
     "data": {
      "text/plain": [
       "[<matplotlib.lines.Line2D at 0x21872797100>]"
      ]
     },
     "execution_count": 195,
     "metadata": {},
     "output_type": "execute_result"
    },
    {
     "data": {
      "image/png": "[encoded data removed]",
      "text/plain": [
       "<Figure size 640x480 with 1 Axes>"
      ]
     },
     "metadata": {},
     "output_type": "display_data"
    }
   ],
   "source": [
    "plt.plot(history.history['accuracy'])\n",
    "plt.plot(history.history['val_accuracy'])"
   ]
  },
  {
   "cell_type": "code",
   "execution_count": null,
   "id": "6276bea4",
   "metadata": {},
   "outputs": [],
   "source": []
  }
 ],
 "metadata": {
  "kernelspec": {
   "display_name": "Python 3 (ipykernel)",
   "language": "python",
   "name": "python3"
  },
  "language_info": {
   "codemirror_mode": {
    "name": "ipython",
    "version": 3
   },
   "file_extension": ".py",
   "mimetype": "text/x-python",
   "name": "python",
   "nbconvert_exporter": "python",
   "pygments_lexer": "ipython3",
   "version": "3.10.9"
  }
 },
 "nbformat": 4,
 "nbformat_minor": 5
}
